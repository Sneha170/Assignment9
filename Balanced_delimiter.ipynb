{
 "cells": [
  {
   "cell_type": "code",
   "execution_count": 2,
   "id": "64474668",
   "metadata": {},
   "outputs": [
    {
     "name": "stdout",
     "output_type": "stream",
     "text": [
      "Enter a String([{}])\n",
      "True\n"
     ]
    }
   ],
   "source": [
    "openlist=[\"{\",\"[\",\"(\"]\n",
    "closedlist=[\"}\",\"]\",\")\"]\n",
    "def Check(str):\n",
    "    stack=[]\n",
    "    for i in stack:\n",
    "        if i in openlist:\n",
    "            stack.append(i)\n",
    "        elif i in closedlist:\n",
    "            pos=closedlist.index(i)\n",
    "            if ((len(stack)>0) and (openlist[pos]==stack[len[stack]-1])):\n",
    "                stack.pop()\n",
    "            else:\n",
    "                return \"False\"\n",
    "    if len(stack)==0:\n",
    "        return \"True\"\n",
    "    else:\n",
    "        return \"False\"\n",
    "\n",
    "str=input(\"Enter a String\")\n",
    "print(Check(str))\n"
   ]
  },
  {
   "cell_type": "code",
   "execution_count": null,
   "id": "c7b51574",
   "metadata": {},
   "outputs": [],
   "source": []
  }
 ],
 "metadata": {
  "kernelspec": {
   "display_name": "Python 3 (ipykernel)",
   "language": "python",
   "name": "python3"
  },
  "language_info": {
   "codemirror_mode": {
    "name": "ipython",
    "version": 3
   },
   "file_extension": ".py",
   "mimetype": "text/x-python",
   "name": "python",
   "nbconvert_exporter": "python",
   "pygments_lexer": "ipython3",
   "version": "3.9.13"
  }
 },
 "nbformat": 4,
 "nbformat_minor": 5
}
