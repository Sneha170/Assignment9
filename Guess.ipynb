{
 "cells": [
  {
   "cell_type": "code",
   "execution_count": 2,
   "id": "3df76ed7",
   "metadata": {},
   "outputs": [
    {
     "name": "stdout",
     "output_type": "stream",
     "text": [
      "Good Luck ! \n",
      "Guess the characters\n",
      "_\n",
      "_\n",
      "_\n",
      "_\n",
      "_\n",
      "\n",
      "guess a character:a\n",
      "_\n",
      "_\n",
      "_\n",
      "_\n",
      "a \n",
      "guess a character:n\n",
      "_\n",
      "n _\n",
      "_\n",
      "a \n",
      "guess a character:i\n",
      "_\n",
      "n _\n",
      "i a \n",
      "guess a character:h\n",
      "Wrong\n",
      "You have 5 more guesses\n",
      "_\n",
      "n _\n",
      "i a \n",
      "guess a character:I\n",
      "I n _\n",
      "i a \n",
      "guess a character:d\n",
      "I n d i a You Win\n",
      "The word is:  India\n"
     ]
    }
   ],
   "source": [
    "import random\n",
    "print(\"Good Luck ! \")\n",
    "\n",
    "words = ['Hands', 'Legs', 'India', 'Crow',\n",
    "\t\t'python', 'Maths', 'player', 'control',\n",
    "\t\t'Rain', 'water', 'board', 'geeks']\n",
    "word = random.choice(words)\n",
    "print(\"Guess the characters\")\n",
    "guesses = ''\n",
    "\n",
    "turns = 6\n",
    "\n",
    "\n",
    "while turns > 0:\n",
    "\tfailed = 0\n",
    "\tfor char in word:\n",
    "\t\tif char in guesses:\n",
    "\t\t\tprint(char, end=\" \")\n",
    "\n",
    "\t\telse:\n",
    "\t\t\tprint(\"_\")\n",
    "\t\t\tfailed += 1\n",
    "\n",
    "\tif failed == 0:\n",
    "\t\tprint(\"You Win\")\n",
    "\t\tprint(\"The word is: \", word)\n",
    "\t\tbreak\n",
    "\n",
    "\tprint()\n",
    "\tguess = input(\"guess a character:\")\n",
    "\tguesses += guess\n",
    "\tif guess not in word:\n",
    "\t\tturns -= 1\n",
    "\t\tprint(\"Wrong\")\n",
    "\t\tprint(\"You have\", + turns, 'more guesses')\n",
    "\t\tif turns == 0:\n",
    "\t\t\tprint(\"You Loose\")\n"
   ]
  },
  {
   "cell_type": "code",
   "execution_count": null,
   "id": "7bcde0e8",
   "metadata": {},
   "outputs": [],
   "source": []
  },
  {
   "cell_type": "code",
   "execution_count": null,
   "id": "04230bb6",
   "metadata": {},
   "outputs": [],
   "source": []
  }
 ],
 "metadata": {
  "kernelspec": {
   "display_name": "Python 3 (ipykernel)",
   "language": "python",
   "name": "python3"
  },
  "language_info": {
   "codemirror_mode": {
    "name": "ipython",
    "version": 3
   },
   "file_extension": ".py",
   "mimetype": "text/x-python",
   "name": "python",
   "nbconvert_exporter": "python",
   "pygments_lexer": "ipython3",
   "version": "3.9.13"
  }
 },
 "nbformat": 4,
 "nbformat_minor": 5
}
