{
 "cells": [
  {
   "cell_type": "code",
   "execution_count": 12,
   "id": "36d849fa",
   "metadata": {},
   "outputs": [
    {
     "name": "stdout",
     "output_type": "stream",
     "text": [
      "[9, 6, 6, 12, 7, 7, 0, 5, 8, 12, 18, 5]\n"
     ]
    }
   ],
   "source": [
    "import math\n",
    "li1=[[1,-2],[-2,4],[-1,-1],[-8,-3],[0,4],[10,-3]]\n",
    "li2=[]\n",
    "for i in range(len(li1)):\n",
    "    for j in range(len(li1[i])):\n",
    "        li2.append(li1[i][j]+8)\n",
    "print(li2)"
   ]
  },
  {
   "cell_type": "code",
   "execution_count": null,
   "id": "acb111a9",
   "metadata": {},
   "outputs": [],
   "source": []
  }
 ],
 "metadata": {
  "kernelspec": {
   "display_name": "Python 3 (ipykernel)",
   "language": "python",
   "name": "python3"
  },
  "language_info": {
   "codemirror_mode": {
    "name": "ipython",
    "version": 3
   },
   "file_extension": ".py",
   "mimetype": "text/x-python",
   "name": "python",
   "nbconvert_exporter": "python",
   "pygments_lexer": "ipython3",
   "version": "3.9.13"
  }
 },
 "nbformat": 4,
 "nbformat_minor": 5
}
