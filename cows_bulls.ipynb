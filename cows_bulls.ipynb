{
 "cells": [
  {
   "cell_type": "code",
   "execution_count": null,
   "id": "8e1e1927",
   "metadata": {},
   "outputs": [],
   "source": [
    "\n",
    "import random\n",
    "def getDigits(num):\n",
    "    return [int(i) for i in str(num)]\n",
    "\n",
    "\n",
    "def noDuplicates(num):\n",
    "    num_li = getDigits(num)\n",
    "    if len(num_li) == len(set(num_li)):\n",
    "        return True\n",
    "    else:\n",
    "        return False\n",
    "\n",
    "\n",
    "def generateNum():\n",
    "    while True:\n",
    "        num = random.randint(1000,9999)\n",
    "        if noDuplicates(num):\n",
    "            return num\n",
    "\n",
    "def numOfBullsCows(num,guess):\n",
    "    bull_cow = [0,0]\n",
    "    num_li = getDigits(num)\n",
    "    guess_li = getDigits(guess)\n",
    "\n",
    "    for i,j in zip(num_li,guess_li):\n",
    "        if j in num_li:\n",
    "            if j == i:\n",
    "                bull_cow[0] += 1\n",
    "\n",
    "            else:\n",
    "                bull_cow[1] += 1\n",
    "\n",
    "    return bull_cow\n",
    "\n",
    "num = generateNum()\n",
    "tries =int(input('Enter number of tries: '))\n",
    "\n",
    "while tries > 0:\n",
    "    guess = int(input(\"Enter your guess: \"))\n",
    "\n",
    "    if not noDuplicates(guess):\n",
    "        print(\"Number should not have repeated digits. Try again.\")\n",
    "        continue\n",
    "    if guess < 1000 or guess > 9999:\n",
    "        print(\"Enter 4 digit number only. Try again.\")\n",
    "        continue\n",
    "\n",
    "    bull_cow = numOfBullsCows(num,guess)\n",
    "    print(f\"{bull_cow[0]} bulls, {bull_cow[1]} cows\")\n",
    "    tries -=1\n",
    "\n",
    "    if bull_cow[0] == 4:\n",
    "        print(\"You guessed right!\")\n",
    "        break\n",
    "else:\n",
    "    print(f\"You ran out of tries. Number was {num}\")\n"
   ]
  },
  {
   "cell_type": "code",
   "execution_count": null,
   "id": "b8afd0d5",
   "metadata": {},
   "outputs": [],
   "source": []
  },
  {
   "cell_type": "code",
   "execution_count": null,
   "id": "866be2db",
   "metadata": {},
   "outputs": [],
   "source": []
  }
 ],
 "metadata": {
  "kernelspec": {
   "display_name": "Python 3 (ipykernel)",
   "language": "python",
   "name": "python3"
  },
  "language_info": {
   "codemirror_mode": {
    "name": "ipython",
    "version": 3
   },
   "file_extension": ".py",
   "mimetype": "text/x-python",
   "name": "python",
   "nbconvert_exporter": "python",
   "pygments_lexer": "ipython3",
   "version": "3.9.13"
  }
 },
 "nbformat": 4,
 "nbformat_minor": 5
}
